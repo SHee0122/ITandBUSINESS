{
  "nbformat": 4,
  "nbformat_minor": 0,
  "metadata": {
    "colab": {
      "provenance": [],
      "authorship_tag": "ABX9TyMPOJZuYtCT+TQT2KDtQObI",
      "include_colab_link": true
    },
    "kernelspec": {
      "name": "python3",
      "display_name": "Python 3"
    },
    "language_info": {
      "name": "python"
    }
  },
  "cells": [
    {
      "cell_type": "markdown",
      "metadata": {
        "id": "view-in-github",
        "colab_type": "text"
      },
      "source": [
        "<a href=\"https://colab.research.google.com/github/SHee0122/ITandBUSINESS/blob/main/ITB_health_dataVis.ipynb\" target=\"_parent\"><img src=\"https://colab.research.google.com/assets/colab-badge.svg\" alt=\"Open In Colab\"/></a>"
      ]
    },
    {
      "cell_type": "code",
      "source": [
        "%matplotlib inline\n",
        "import pandas as pd\n",
        "import seaborn as sns           \n",
        "import numpy as np"
      ],
      "metadata": {
        "id": "yzftqzfVFIfV"
      },
      "execution_count": 29,
      "outputs": []
    },
    {
      "cell_type": "code",
      "source": [
        "from pandas import DataFrame"
      ],
      "metadata": {
        "id": "waWo_rDsLik2"
      },
      "execution_count": 30,
      "outputs": []
    },
    {
      "cell_type": "code",
      "source": [
        "#https://seaborn.pydata.org/tutorial/aesthetics.html\n",
        "\n",
        "sns.set_style(\"whitegrid\") # choose a style for seaborn figure"
      ],
      "metadata": {
        "id": "p6rIKjznFRsu"
      },
      "execution_count": 31,
      "outputs": []
    },
    {
      "cell_type": "code",
      "execution_count": 32,
      "metadata": {
        "colab": {
          "base_uri": "https://localhost:8080/"
        },
        "id": "U2-erhTiJyrK",
        "outputId": "7caa98a5-f018-48e9-c755-638affd14321"
      },
      "outputs": [
        {
          "output_type": "stream",
          "name": "stdout",
          "text": [
            "Drive already mounted at /content/drive; to attempt to forcibly remount, call drive.mount(\"/content/drive\", force_remount=True).\n"
          ]
        }
      ],
      "source": [
        "from google.colab import drive\n",
        "drive.mount('/content/drive')"
      ]
    },
    {
      "cell_type": "code",
      "source": [
        "!sudo apt-get install -y fonts-nanum\n",
        "!sudo fc-cache -fv\n",
        "!rm ~/.cache/matplotlib -rf"
      ],
      "metadata": {
        "colab": {
          "base_uri": "https://localhost:8080/"
        },
        "id": "xug5O5Nptt_G",
        "outputId": "ff81f22b-b86c-4965-c2c1-9d836259cde0"
      },
      "execution_count": 33,
      "outputs": [
        {
          "output_type": "stream",
          "name": "stdout",
          "text": [
            "Reading package lists... Done\n",
            "Building dependency tree       \n",
            "Reading state information... Done\n",
            "fonts-nanum is already the newest version (20170925-1).\n",
            "The following package was automatically installed and is no longer required:\n",
            "  libnvidia-common-460\n",
            "Use 'sudo apt autoremove' to remove it.\n",
            "0 upgraded, 0 newly installed, 0 to remove and 29 not upgraded.\n",
            "/usr/share/fonts: caching, new cache contents: 0 fonts, 1 dirs\n",
            "/usr/share/fonts/truetype: caching, new cache contents: 0 fonts, 3 dirs\n",
            "/usr/share/fonts/truetype/humor-sans: caching, new cache contents: 1 fonts, 0 dirs\n",
            "/usr/share/fonts/truetype/liberation: caching, new cache contents: 16 fonts, 0 dirs\n",
            "/usr/share/fonts/truetype/nanum: caching, new cache contents: 10 fonts, 0 dirs\n",
            "/usr/local/share/fonts: caching, new cache contents: 0 fonts, 0 dirs\n",
            "/root/.local/share/fonts: skipping, no such directory\n",
            "/root/.fonts: skipping, no such directory\n",
            "/var/cache/fontconfig: cleaning cache directory\n",
            "/root/.cache/fontconfig: not cleaning non-existent cache directory\n",
            "/root/.fontconfig: not cleaning non-existent cache directory\n",
            "fc-cache: succeeded\n"
          ]
        }
      ]
    },
    {
      "cell_type": "code",
      "source": [
        "import matplotlib.pyplot as plt\n",
        "\n",
        "plt.rc('font', family='NanumBarunGothic') "
      ],
      "metadata": {
        "id": "O5jf92dFt9xq"
      },
      "execution_count": 34,
      "outputs": []
    },
    {
      "cell_type": "code",
      "source": [
        "import pandas as pd\n",
        "\n",
        "# csv 데이터 가져오기\n",
        "health_data = pd.read_csv(\"/content/drive/My Drive/Colab Notebooks/ITB/health_data.csv\")\n",
        "display(health_data.head(10)) # 처음 10행 확인\n",
        "print(health_data.info()) "
      ],
      "metadata": {
        "colab": {
          "base_uri": "https://localhost:8080/",
          "height": 1000
        },
        "id": "LHB6IJI2KVF7",
        "outputId": "7aff708d-7d40-4c96-96ec-0e961dd97f52"
      },
      "execution_count": 35,
      "outputs": [
        {
          "output_type": "display_data",
          "data": {
            "text/plain": [
              "   기준년도  가입자일련번호  시도코드 성별코드  연령대코드(5세단위)  신장(5Cm단위)  체중(5Kg 단위)  허리둘레  시력(좌)  \\\n",
              "0  2020        1    36    M            9        165          60  72.1    1.2   \n",
              "1  2020        2    27    F           13        150          65  81.0    0.8   \n",
              "2  2020        3    11    F           12        155          55  70.0    0.6   \n",
              "3  2020        4    31    M           13        160          70  90.8    1.0   \n",
              "4  2020        5    41    F           12        155          50  75.2    1.5   \n",
              "5  2020        6    27    M            9        185          85  94.0    1.2   \n",
              "6  2020        7    44    M            9        165          80  93.0    0.8   \n",
              "7  2020        8    41    M           13        160          65  92.0    0.5   \n",
              "8  2020        9    41    F           17        150          50  82.0    0.4   \n",
              "9  2020       10    48    F           14        150          45  71.2    0.8   \n",
              "\n",
              "   시력(우)  ...  혈청크레아티닌  (혈청지오티)AST  (혈청지오티)ALT  감마지티피  흡연상태  음주여부  구강검진수검여부  \\\n",
              "0    1.5  ...      1.1        21.0        27.0   21.0    No    No         0   \n",
              "1    0.8  ...      0.5        18.0        15.0   15.0    No    No         0   \n",
              "2    0.7  ...      0.7        27.0        25.0    7.0    No    No         0   \n",
              "3    1.0  ...      1.2        65.0        97.0   72.0    No    No         1   \n",
              "4    1.2  ...      0.7        18.0        17.0   14.0    No    No         0   \n",
              "5    1.2  ...      1.1        25.0        32.0   26.0   Yes   Yes         0   \n",
              "6    0.7  ...      0.7        18.0        20.0   35.0   Yes   Yes         1   \n",
              "7    0.5  ...      1.2        18.0        17.0   19.0   Yes    No         1   \n",
              "8    0.5  ...      0.7        42.0        48.0   39.0    No    No         0   \n",
              "9    0.7  ...      0.6        22.0        11.0   10.0    No    No         0   \n",
              "\n",
              "   치아우식증유무   치석     데이터공개일자  \n",
              "0      NaN  NaN  12/29/2021  \n",
              "1      NaN  NaN  12/29/2021  \n",
              "2      NaN  NaN  12/29/2021  \n",
              "3      0.0  0.0  12/29/2021  \n",
              "4      NaN  NaN  12/29/2021  \n",
              "5      NaN  NaN  12/29/2021  \n",
              "6      0.0  1.0  12/29/2021  \n",
              "7      0.0  2.0  12/29/2021  \n",
              "8      NaN  NaN  12/29/2021  \n",
              "9      NaN  NaN  12/29/2021  \n",
              "\n",
              "[10 rows x 31 columns]"
            ],
            "text/html": [
              "\n",
              "  <div id=\"df-39b27f2a-8c60-415a-8580-17a95b6d37bb\">\n",
              "    <div class=\"colab-df-container\">\n",
              "      <div>\n",
              "<style scoped>\n",
              "    .dataframe tbody tr th:only-of-type {\n",
              "        vertical-align: middle;\n",
              "    }\n",
              "\n",
              "    .dataframe tbody tr th {\n",
              "        vertical-align: top;\n",
              "    }\n",
              "\n",
              "    .dataframe thead th {\n",
              "        text-align: right;\n",
              "    }\n",
              "</style>\n",
              "<table border=\"1\" class=\"dataframe\">\n",
              "  <thead>\n",
              "    <tr style=\"text-align: right;\">\n",
              "      <th></th>\n",
              "      <th>기준년도</th>\n",
              "      <th>가입자일련번호</th>\n",
              "      <th>시도코드</th>\n",
              "      <th>성별코드</th>\n",
              "      <th>연령대코드(5세단위)</th>\n",
              "      <th>신장(5Cm단위)</th>\n",
              "      <th>체중(5Kg 단위)</th>\n",
              "      <th>허리둘레</th>\n",
              "      <th>시력(좌)</th>\n",
              "      <th>시력(우)</th>\n",
              "      <th>...</th>\n",
              "      <th>혈청크레아티닌</th>\n",
              "      <th>(혈청지오티)AST</th>\n",
              "      <th>(혈청지오티)ALT</th>\n",
              "      <th>감마지티피</th>\n",
              "      <th>흡연상태</th>\n",
              "      <th>음주여부</th>\n",
              "      <th>구강검진수검여부</th>\n",
              "      <th>치아우식증유무</th>\n",
              "      <th>치석</th>\n",
              "      <th>데이터공개일자</th>\n",
              "    </tr>\n",
              "  </thead>\n",
              "  <tbody>\n",
              "    <tr>\n",
              "      <th>0</th>\n",
              "      <td>2020</td>\n",
              "      <td>1</td>\n",
              "      <td>36</td>\n",
              "      <td>M</td>\n",
              "      <td>9</td>\n",
              "      <td>165</td>\n",
              "      <td>60</td>\n",
              "      <td>72.1</td>\n",
              "      <td>1.2</td>\n",
              "      <td>1.5</td>\n",
              "      <td>...</td>\n",
              "      <td>1.1</td>\n",
              "      <td>21.0</td>\n",
              "      <td>27.0</td>\n",
              "      <td>21.0</td>\n",
              "      <td>No</td>\n",
              "      <td>No</td>\n",
              "      <td>0</td>\n",
              "      <td>NaN</td>\n",
              "      <td>NaN</td>\n",
              "      <td>12/29/2021</td>\n",
              "    </tr>\n",
              "    <tr>\n",
              "      <th>1</th>\n",
              "      <td>2020</td>\n",
              "      <td>2</td>\n",
              "      <td>27</td>\n",
              "      <td>F</td>\n",
              "      <td>13</td>\n",
              "      <td>150</td>\n",
              "      <td>65</td>\n",
              "      <td>81.0</td>\n",
              "      <td>0.8</td>\n",
              "      <td>0.8</td>\n",
              "      <td>...</td>\n",
              "      <td>0.5</td>\n",
              "      <td>18.0</td>\n",
              "      <td>15.0</td>\n",
              "      <td>15.0</td>\n",
              "      <td>No</td>\n",
              "      <td>No</td>\n",
              "      <td>0</td>\n",
              "      <td>NaN</td>\n",
              "      <td>NaN</td>\n",
              "      <td>12/29/2021</td>\n",
              "    </tr>\n",
              "    <tr>\n",
              "      <th>2</th>\n",
              "      <td>2020</td>\n",
              "      <td>3</td>\n",
              "      <td>11</td>\n",
              "      <td>F</td>\n",
              "      <td>12</td>\n",
              "      <td>155</td>\n",
              "      <td>55</td>\n",
              "      <td>70.0</td>\n",
              "      <td>0.6</td>\n",
              "      <td>0.7</td>\n",
              "      <td>...</td>\n",
              "      <td>0.7</td>\n",
              "      <td>27.0</td>\n",
              "      <td>25.0</td>\n",
              "      <td>7.0</td>\n",
              "      <td>No</td>\n",
              "      <td>No</td>\n",
              "      <td>0</td>\n",
              "      <td>NaN</td>\n",
              "      <td>NaN</td>\n",
              "      <td>12/29/2021</td>\n",
              "    </tr>\n",
              "    <tr>\n",
              "      <th>3</th>\n",
              "      <td>2020</td>\n",
              "      <td>4</td>\n",
              "      <td>31</td>\n",
              "      <td>M</td>\n",
              "      <td>13</td>\n",
              "      <td>160</td>\n",
              "      <td>70</td>\n",
              "      <td>90.8</td>\n",
              "      <td>1.0</td>\n",
              "      <td>1.0</td>\n",
              "      <td>...</td>\n",
              "      <td>1.2</td>\n",
              "      <td>65.0</td>\n",
              "      <td>97.0</td>\n",
              "      <td>72.0</td>\n",
              "      <td>No</td>\n",
              "      <td>No</td>\n",
              "      <td>1</td>\n",
              "      <td>0.0</td>\n",
              "      <td>0.0</td>\n",
              "      <td>12/29/2021</td>\n",
              "    </tr>\n",
              "    <tr>\n",
              "      <th>4</th>\n",
              "      <td>2020</td>\n",
              "      <td>5</td>\n",
              "      <td>41</td>\n",
              "      <td>F</td>\n",
              "      <td>12</td>\n",
              "      <td>155</td>\n",
              "      <td>50</td>\n",
              "      <td>75.2</td>\n",
              "      <td>1.5</td>\n",
              "      <td>1.2</td>\n",
              "      <td>...</td>\n",
              "      <td>0.7</td>\n",
              "      <td>18.0</td>\n",
              "      <td>17.0</td>\n",
              "      <td>14.0</td>\n",
              "      <td>No</td>\n",
              "      <td>No</td>\n",
              "      <td>0</td>\n",
              "      <td>NaN</td>\n",
              "      <td>NaN</td>\n",
              "      <td>12/29/2021</td>\n",
              "    </tr>\n",
              "    <tr>\n",
              "      <th>5</th>\n",
              "      <td>2020</td>\n",
              "      <td>6</td>\n",
              "      <td>27</td>\n",
              "      <td>M</td>\n",
              "      <td>9</td>\n",
              "      <td>185</td>\n",
              "      <td>85</td>\n",
              "      <td>94.0</td>\n",
              "      <td>1.2</td>\n",
              "      <td>1.2</td>\n",
              "      <td>...</td>\n",
              "      <td>1.1</td>\n",
              "      <td>25.0</td>\n",
              "      <td>32.0</td>\n",
              "      <td>26.0</td>\n",
              "      <td>Yes</td>\n",
              "      <td>Yes</td>\n",
              "      <td>0</td>\n",
              "      <td>NaN</td>\n",
              "      <td>NaN</td>\n",
              "      <td>12/29/2021</td>\n",
              "    </tr>\n",
              "    <tr>\n",
              "      <th>6</th>\n",
              "      <td>2020</td>\n",
              "      <td>7</td>\n",
              "      <td>44</td>\n",
              "      <td>M</td>\n",
              "      <td>9</td>\n",
              "      <td>165</td>\n",
              "      <td>80</td>\n",
              "      <td>93.0</td>\n",
              "      <td>0.8</td>\n",
              "      <td>0.7</td>\n",
              "      <td>...</td>\n",
              "      <td>0.7</td>\n",
              "      <td>18.0</td>\n",
              "      <td>20.0</td>\n",
              "      <td>35.0</td>\n",
              "      <td>Yes</td>\n",
              "      <td>Yes</td>\n",
              "      <td>1</td>\n",
              "      <td>0.0</td>\n",
              "      <td>1.0</td>\n",
              "      <td>12/29/2021</td>\n",
              "    </tr>\n",
              "    <tr>\n",
              "      <th>7</th>\n",
              "      <td>2020</td>\n",
              "      <td>8</td>\n",
              "      <td>41</td>\n",
              "      <td>M</td>\n",
              "      <td>13</td>\n",
              "      <td>160</td>\n",
              "      <td>65</td>\n",
              "      <td>92.0</td>\n",
              "      <td>0.5</td>\n",
              "      <td>0.5</td>\n",
              "      <td>...</td>\n",
              "      <td>1.2</td>\n",
              "      <td>18.0</td>\n",
              "      <td>17.0</td>\n",
              "      <td>19.0</td>\n",
              "      <td>Yes</td>\n",
              "      <td>No</td>\n",
              "      <td>1</td>\n",
              "      <td>0.0</td>\n",
              "      <td>2.0</td>\n",
              "      <td>12/29/2021</td>\n",
              "    </tr>\n",
              "    <tr>\n",
              "      <th>8</th>\n",
              "      <td>2020</td>\n",
              "      <td>9</td>\n",
              "      <td>41</td>\n",
              "      <td>F</td>\n",
              "      <td>17</td>\n",
              "      <td>150</td>\n",
              "      <td>50</td>\n",
              "      <td>82.0</td>\n",
              "      <td>0.4</td>\n",
              "      <td>0.5</td>\n",
              "      <td>...</td>\n",
              "      <td>0.7</td>\n",
              "      <td>42.0</td>\n",
              "      <td>48.0</td>\n",
              "      <td>39.0</td>\n",
              "      <td>No</td>\n",
              "      <td>No</td>\n",
              "      <td>0</td>\n",
              "      <td>NaN</td>\n",
              "      <td>NaN</td>\n",
              "      <td>12/29/2021</td>\n",
              "    </tr>\n",
              "    <tr>\n",
              "      <th>9</th>\n",
              "      <td>2020</td>\n",
              "      <td>10</td>\n",
              "      <td>48</td>\n",
              "      <td>F</td>\n",
              "      <td>14</td>\n",
              "      <td>150</td>\n",
              "      <td>45</td>\n",
              "      <td>71.2</td>\n",
              "      <td>0.8</td>\n",
              "      <td>0.7</td>\n",
              "      <td>...</td>\n",
              "      <td>0.6</td>\n",
              "      <td>22.0</td>\n",
              "      <td>11.0</td>\n",
              "      <td>10.0</td>\n",
              "      <td>No</td>\n",
              "      <td>No</td>\n",
              "      <td>0</td>\n",
              "      <td>NaN</td>\n",
              "      <td>NaN</td>\n",
              "      <td>12/29/2021</td>\n",
              "    </tr>\n",
              "  </tbody>\n",
              "</table>\n",
              "<p>10 rows × 31 columns</p>\n",
              "</div>\n",
              "      <button class=\"colab-df-convert\" onclick=\"convertToInteractive('df-39b27f2a-8c60-415a-8580-17a95b6d37bb')\"\n",
              "              title=\"Convert this dataframe to an interactive table.\"\n",
              "              style=\"display:none;\">\n",
              "        \n",
              "  <svg xmlns=\"http://www.w3.org/2000/svg\" height=\"24px\"viewBox=\"0 0 24 24\"\n",
              "       width=\"24px\">\n",
              "    <path d=\"M0 0h24v24H0V0z\" fill=\"none\"/>\n",
              "    <path d=\"M18.56 5.44l.94 2.06.94-2.06 2.06-.94-2.06-.94-.94-2.06-.94 2.06-2.06.94zm-11 1L8.5 8.5l.94-2.06 2.06-.94-2.06-.94L8.5 2.5l-.94 2.06-2.06.94zm10 10l.94 2.06.94-2.06 2.06-.94-2.06-.94-.94-2.06-.94 2.06-2.06.94z\"/><path d=\"M17.41 7.96l-1.37-1.37c-.4-.4-.92-.59-1.43-.59-.52 0-1.04.2-1.43.59L10.3 9.45l-7.72 7.72c-.78.78-.78 2.05 0 2.83L4 21.41c.39.39.9.59 1.41.59.51 0 1.02-.2 1.41-.59l7.78-7.78 2.81-2.81c.8-.78.8-2.07 0-2.86zM5.41 20L4 18.59l7.72-7.72 1.47 1.35L5.41 20z\"/>\n",
              "  </svg>\n",
              "      </button>\n",
              "      \n",
              "  <style>\n",
              "    .colab-df-container {\n",
              "      display:flex;\n",
              "      flex-wrap:wrap;\n",
              "      gap: 12px;\n",
              "    }\n",
              "\n",
              "    .colab-df-convert {\n",
              "      background-color: #E8F0FE;\n",
              "      border: none;\n",
              "      border-radius: 50%;\n",
              "      cursor: pointer;\n",
              "      display: none;\n",
              "      fill: #1967D2;\n",
              "      height: 32px;\n",
              "      padding: 0 0 0 0;\n",
              "      width: 32px;\n",
              "    }\n",
              "\n",
              "    .colab-df-convert:hover {\n",
              "      background-color: #E2EBFA;\n",
              "      box-shadow: 0px 1px 2px rgba(60, 64, 67, 0.3), 0px 1px 3px 1px rgba(60, 64, 67, 0.15);\n",
              "      fill: #174EA6;\n",
              "    }\n",
              "\n",
              "    [theme=dark] .colab-df-convert {\n",
              "      background-color: #3B4455;\n",
              "      fill: #D2E3FC;\n",
              "    }\n",
              "\n",
              "    [theme=dark] .colab-df-convert:hover {\n",
              "      background-color: #434B5C;\n",
              "      box-shadow: 0px 1px 3px 1px rgba(0, 0, 0, 0.15);\n",
              "      filter: drop-shadow(0px 1px 2px rgba(0, 0, 0, 0.3));\n",
              "      fill: #FFFFFF;\n",
              "    }\n",
              "  </style>\n",
              "\n",
              "      <script>\n",
              "        const buttonEl =\n",
              "          document.querySelector('#df-39b27f2a-8c60-415a-8580-17a95b6d37bb button.colab-df-convert');\n",
              "        buttonEl.style.display =\n",
              "          google.colab.kernel.accessAllowed ? 'block' : 'none';\n",
              "\n",
              "        async function convertToInteractive(key) {\n",
              "          const element = document.querySelector('#df-39b27f2a-8c60-415a-8580-17a95b6d37bb');\n",
              "          const dataTable =\n",
              "            await google.colab.kernel.invokeFunction('convertToInteractive',\n",
              "                                                     [key], {});\n",
              "          if (!dataTable) return;\n",
              "\n",
              "          const docLinkHtml = 'Like what you see? Visit the ' +\n",
              "            '<a target=\"_blank\" href=https://colab.research.google.com/notebooks/data_table.ipynb>data table notebook</a>'\n",
              "            + ' to learn more about interactive tables.';\n",
              "          element.innerHTML = '';\n",
              "          dataTable['output_type'] = 'display_data';\n",
              "          await google.colab.output.renderOutput(dataTable, element);\n",
              "          const docLink = document.createElement('div');\n",
              "          docLink.innerHTML = docLinkHtml;\n",
              "          element.appendChild(docLink);\n",
              "        }\n",
              "      </script>\n",
              "    </div>\n",
              "  </div>\n",
              "  "
            ]
          },
          "metadata": {}
        },
        {
          "output_type": "stream",
          "name": "stdout",
          "text": [
            "<class 'pandas.core.frame.DataFrame'>\n",
            "RangeIndex: 10000 entries, 0 to 9999\n",
            "Data columns (total 31 columns):\n",
            " #   Column       Non-Null Count  Dtype  \n",
            "---  ------       --------------  -----  \n",
            " 0   기준년도         10000 non-null  int64  \n",
            " 1   가입자일련번호      10000 non-null  int64  \n",
            " 2   시도코드         10000 non-null  int64  \n",
            " 3   성별코드         10000 non-null  object \n",
            " 4   연령대코드(5세단위)  10000 non-null  int64  \n",
            " 5   신장(5Cm단위)    10000 non-null  int64  \n",
            " 6   체중(5Kg 단위)   10000 non-null  int64  \n",
            " 7   허리둘레         10000 non-null  float64\n",
            " 8   시력(좌)        10000 non-null  float64\n",
            " 9   시력(우)        10000 non-null  float64\n",
            " 10  청력(좌)        10000 non-null  int64  \n",
            " 11  청력(우)        10000 non-null  int64  \n",
            " 12  수축기혈압        9912 non-null   float64\n",
            " 13  이완기혈압        9912 non-null   float64\n",
            " 14  식전혈당(공복혈당)   9912 non-null   float64\n",
            " 15  총콜레스테롤       4044 non-null   float64\n",
            " 16  트리글리세라이드     4044 non-null   float64\n",
            " 17  HDL콜레스테롤     4044 non-null   float64\n",
            " 18  LDL콜레스테롤     3977 non-null   float64\n",
            " 19  혈색소          9912 non-null   float64\n",
            " 20  요단백          9861 non-null   float64\n",
            " 21  혈청크레아티닌      9912 non-null   float64\n",
            " 22  (혈청지오티)AST   9912 non-null   float64\n",
            " 23  (혈청지오티)ALT   9912 non-null   float64\n",
            " 24  감마지티피        9912 non-null   float64\n",
            " 25  흡연상태         9998 non-null   object \n",
            " 26  음주여부         9999 non-null   object \n",
            " 27  구강검진수검여부     10000 non-null  int64  \n",
            " 28  치아우식증유무      3251 non-null   float64\n",
            " 29  치석           3251 non-null   float64\n",
            " 30  데이터공개일자      10000 non-null  object \n",
            "dtypes: float64(18), int64(9), object(4)\n",
            "memory usage: 2.4+ MB\n",
            "None\n"
          ]
        }
      ]
    },
    {
      "cell_type": "code",
      "source": [
        "# order_id 는 숫자로 계산할 필요가 없는 값이므로 문자로 변환\n",
        "health_data['가입자일련번호'] = health_data['가입자일련번호'].astype(str)  \n",
        "\n",
        "# 모든 수치 데이터의 기초 통계량 보여주기\n",
        "print(health_data.describe())   # 평균적으로 1.07개 주문\n",
        "\n",
        "print('총 건강검진 개수:', len(health_data['가입자일련번호'].unique()))    # unique: 고유값"
      ],
      "metadata": {
        "colab": {
          "base_uri": "https://localhost:8080/"
        },
        "id": "kEmalSE1MNbo",
        "outputId": "f8fcc666-a6a7-40a5-9532-a9b888bc1e88"
      },
      "execution_count": 36,
      "outputs": [
        {
          "output_type": "stream",
          "name": "stdout",
          "text": [
            "          기준년도          시도코드   연령대코드(5세단위)     신장(5Cm단위)    체중(5Kg 단위)  \\\n",
            "count  10000.0  10000.000000  10000.000000  10000.000000  10000.000000   \n",
            "mean    2020.0     34.100100     11.931400    160.983500     63.034500   \n",
            "std        0.0     12.394581      2.166048      9.211608     12.205294   \n",
            "min     2020.0     11.000000      9.000000    130.000000     30.000000   \n",
            "25%     2020.0     27.000000     10.000000    155.000000     55.000000   \n",
            "50%     2020.0     41.000000     12.000000    160.000000     60.000000   \n",
            "75%     2020.0     44.000000     13.000000    170.000000     70.000000   \n",
            "max     2020.0     49.000000     18.000000    195.000000    130.000000   \n",
            "\n",
            "               허리둘레         시력(좌)         시력(우)         청력(좌)         청력(우)  \\\n",
            "count  10000.000000  10000.000000  10000.000000  10000.000000  10000.000000   \n",
            "mean      82.366100      0.933750      0.936750      1.050500      1.045200   \n",
            "std        9.561973      0.662057      0.641378      0.227936      0.218545   \n",
            "min       53.000000      0.100000      0.100000      1.000000      1.000000   \n",
            "25%       76.000000      0.700000      0.700000      1.000000      1.000000   \n",
            "50%       82.000000      0.900000      0.900000      1.000000      1.000000   \n",
            "75%       88.900000      1.200000      1.200000      1.000000      1.000000   \n",
            "max      134.000000      9.900000      9.900000      3.000000      3.000000   \n",
            "\n",
            "       ...     LDL콜레스테롤          혈색소          요단백      혈청크레아티닌  (혈청지오티)AST  \\\n",
            "count  ...  3977.000000  9912.000000  9861.000000  9912.000000  9912.00000   \n",
            "mean   ...   116.263264    14.214255     1.119461     0.848484    27.58979   \n",
            "std    ...    37.829955     1.555386     0.489782     0.301012    17.88442   \n",
            "min    ...    13.000000     5.100000     1.000000     0.050000     3.00000   \n",
            "25%    ...    89.000000    13.200000     1.000000     0.700000    20.00000   \n",
            "50%    ...   115.000000    14.200000     1.000000     0.800000    24.00000   \n",
            "75%    ...   141.000000    15.300000     1.000000     1.000000    30.00000   \n",
            "max    ...   297.000000    20.000000     6.000000     9.200000   692.00000   \n",
            "\n",
            "        (혈청지오티)ALT        감마지티피      구강검진수검여부      치아우식증유무           치석  \n",
            "count  9912.000000  9912.000000  10000.000000  3251.000000  3251.000000  \n",
            "mean     26.789851    38.098668      0.325100     0.175331     0.579514  \n",
            "std      23.735687    58.184579      0.468436     0.380308     0.591269  \n",
            "min       2.000000     3.000000      0.000000     0.000000     0.000000  \n",
            "25%      16.000000    16.000000      0.000000     0.000000     0.000000  \n",
            "50%      21.000000    24.000000      0.000000     0.000000     1.000000  \n",
            "75%      31.000000    39.000000      1.000000     0.000000     1.000000  \n",
            "max    1146.000000  2322.000000      1.000000     1.000000     2.000000  \n",
            "\n",
            "[8 rows x 26 columns]\n",
            "총 건강검진 개수: 10000\n"
          ]
        }
      ]
    },
    {
      "cell_type": "code",
      "source": [
        "# 가장 검사를 많이 한 지역 TOP 10 보여주기\n",
        "# value_counts 함수는 값이 발생하는 빈도를 높은 순으로 보여줌\n",
        "# NaN 값이 있다면 NaN은 가장 마지막에 보여줌\n",
        "\n",
        "sido_count = health_data['시도코드'].value_counts()\n",
        "print(sido_count[:10]) "
      ],
      "metadata": {
        "colab": {
          "base_uri": "https://localhost:8080/"
        },
        "id": "kzX3QHIBO0bC",
        "outputId": "739a0ce8-ed5d-4414-e263-d1abf62766f9"
      },
      "execution_count": 37,
      "outputs": [
        {
          "output_type": "stream",
          "name": "stdout",
          "text": [
            "41    2495\n",
            "11    1644\n",
            "26     681\n",
            "48     663\n",
            "28     561\n",
            "47     523\n",
            "27     495\n",
            "44     430\n",
            "46     395\n",
            "45     392\n",
            "Name: 시도코드, dtype: int64\n"
          ]
        }
      ]
    },
    {
      "cell_type": "code",
      "source": [
        "sido_count[:10].plot.bar(rot=45)"
      ],
      "metadata": {
        "colab": {
          "base_uri": "https://localhost:8080/",
          "height": 294
        },
        "id": "hFTHzWfxPxTg",
        "outputId": "4a220dfa-f216-48cb-bc90-5513790f7e0d"
      },
      "execution_count": 38,
      "outputs": [
        {
          "output_type": "execute_result",
          "data": {
            "text/plain": [
              "<matplotlib.axes._subplots.AxesSubplot at 0x7f10f6231fd0>"
            ]
          },
          "metadata": {},
          "execution_count": 38
        },
        {
          "output_type": "display_data",
          "data": {
            "text/plain": [
              "<Figure size 432x288 with 1 Axes>"
            ],
            "image/png": "[encoded data removed]"
          },
          "metadata": {}
        }
      ]
    },
    {
      "cell_type": "markdown",
      "source": [
        "Insight 도출 : 41코드(경기도)가 가장 빈도가 높음(가장 인구수가 많아서로 추정)"
      ],
      "metadata": {
        "id": "dW8J6ji7cFSy"
      }
    },
    {
      "cell_type": "code",
      "source": [
        "#연령 증가에 따른 식전혈당 수치\n",
        "import matplotlib.pyplot as plt\n",
        "plt.rc('font', family='NanumBarunGothic') \n",
        "\n",
        "sns.lineplot(data = health_data, x = '연령대코드(5세단위)', y = '식전혈당(공복혈당)')\n",
        "sns.set(rc={'figure.figsize':(6, 5)}) \n",
        "plt.title('연령 증가에 따른 식전혈당 수치')\n",
        "plt.xlabel('연령')\n",
        "plt.ylabel('검사자들의 식전혈당 총합')"
      ],
      "metadata": {
        "colab": {
          "base_uri": "https://localhost:8080/",
          "height": 319
        },
        "id": "Hh2VUdP1sIMm",
        "outputId": "bba49a78-799c-4716-c46e-afea9ceadc7b"
      },
      "execution_count": 39,
      "outputs": [
        {
          "output_type": "execute_result",
          "data": {
            "text/plain": [
              "Text(0, 0.5, '검사자들의 식전혈당 총합')"
            ]
          },
          "metadata": {},
          "execution_count": 39
        },
        {
          "output_type": "display_data",
          "data": {
            "text/plain": [
              "<Figure size 432x288 with 1 Axes>"
            ],
            "image/png": "[encoded data removed]"
          },
          "metadata": {}
        }
      ]
    },
    {
      "cell_type": "code",
      "source": [
        "# 연령별 검사 빈도표\n",
        "import matplotlib.pyplot as plt\n",
        "plt.rc('font', family='NanumBarunGothic') \n",
        "\n",
        "df_age = health_data.groupby('연령대코드(5세단위)', as_index = False).agg(n = ('연령대코드(5세단위)', 'count'))\n",
        "sns.barplot(data = df_age, x = '연령대코드(5세단위)', y = 'n')\n",
        "plt.title('연령 별 검사 빈도')\n",
        "plt.xlabel('연령')\n",
        "plt.ylabel('검사 수')"
      ],
      "metadata": {
        "colab": {
          "base_uri": "https://localhost:8080/",
          "height": 373
        },
        "id": "No_1R8Y_7V0-",
        "outputId": "3cae59e4-f52d-4720-89f8-c0e92431b637"
      },
      "execution_count": 40,
      "outputs": [
        {
          "output_type": "execute_result",
          "data": {
            "text/plain": [
              "Text(0, 0.5, '검사 수')"
            ]
          },
          "metadata": {},
          "execution_count": 40
        },
        {
          "output_type": "display_data",
          "data": {
            "text/plain": [
              "<Figure size 432x360 with 1 Axes>"
            ],
            "image/png": "[encoded data removed]"
          },
          "metadata": {}
        }
      ]
    },
    {
      "cell_type": "markdown",
      "source": [
        "Insight 도출 : \n",
        "나이가 들수록 식전혈당(공복혈당)수치가 높아지는 것을 알 수 있다.\n",
        "(단,검사자들의 공복혈당의 총합이기 때문에 17에서 18의 변화가 감소로 보여지지만, 위의 그래프 결과와 같이 이는 단지 18의 연령의 검사 빈도가 적기 때문이라는 것을 알 수 있다.)"
      ],
      "metadata": {
        "id": "VMeTrLRDyY38"
      }
    },
    {
      "cell_type": "code",
      "source": [
        "#연령에 따른 신장 분포\n",
        "import matplotlib.pyplot as plt\n",
        "plt.rc('font', family='NanumBarunGothic') \n",
        "\n",
        "sns.scatterplot(data = health_data, x = '연령대코드(5세단위)', y = '신장(5Cm단위)')\n",
        "plt.title('연령 별 신장 분포')\n",
        "plt.xlabel('연령')\n",
        "plt.ylabel('신장')"
      ],
      "metadata": {
        "colab": {
          "base_uri": "https://localhost:8080/",
          "height": 373
        },
        "id": "5pgA9yLAtp7z",
        "outputId": "6fd9bd9b-54bf-405e-aa46-e4f8d8960059"
      },
      "execution_count": 41,
      "outputs": [
        {
          "output_type": "execute_result",
          "data": {
            "text/plain": [
              "Text(0, 0.5, '신장')"
            ]
          },
          "metadata": {},
          "execution_count": 41
        },
        {
          "output_type": "display_data",
          "data": {
            "text/plain": [
              "<Figure size 432x360 with 1 Axes>"
            ],
            "image/png": "[encoded data removed]"
          },
          "metadata": {}
        }
      ]
    },
    {
      "cell_type": "markdown",
      "source": [
        "Insight 도출 : 연령에 따른 신장 산점도를 그려보았을 때, 연령이 늘어날 수록\n",
        "(단, 그래프의 산점이 규칙적인 이유는 단위가 5CM로 설정되어있기 때문이다.)"
      ],
      "metadata": {
        "id": "GH9Ib6upAe4F"
      }
    },
    {
      "cell_type": "code",
      "source": [
        "import csv\n",
        "import matplotlib.pyplot as plt\n",
        "health_data = pd.read_csv(\"/content/drive/My Drive/Colab Notebooks/ITB/health_data.csv\")\n",
        "health_data.head\n",
        "health_data = health_data.dropna(subset=[\"흡연상태\"])\n",
        "\n",
        "data_pie = health_data[\"흡연상태\"].value_counts().rename_axis(\"흡연상태\").reset_index(name= \"가입자일련번호\")\n",
        "plt.figure(figsize=(10,10))\n",
        "plt.pie(data_pie.가입자일련번호, labels=data_pie.흡연상태, startangle=90, autopct=\"%.1f%%\")\n",
        "plt.title(\"검사자들의 흡연상태\")\n",
        "plt.show()\n",
        "\n",
        "\n",
        "\n"
      ],
      "metadata": {
        "colab": {
          "base_uri": "https://localhost:8080/",
          "height": 589
        },
        "id": "zJWFTSVOVFsO",
        "outputId": "29c55eb2-5f7f-4352-a0b2-731fb7a01fbb"
      },
      "execution_count": 58,
      "outputs": [
        {
          "output_type": "display_data",
          "data": {
            "text/plain": [
              "<Figure size 720x720 with 1 Axes>"
            ],
            "image/png": "[encoded data removed]"
          },
          "metadata": {}
        }
      ]
    },
    {
      "cell_type": "markdown",
      "source": [
        "Insight 도출 : pie그래프로 흡연여부를 살펴보았을 때, 흡연을 하지 않는 사람들이 가장 많았으며, 그 다음이 지금은 피지 않는다, 다음이 흡연을 한다의 순서대로 많았다. "
      ],
      "metadata": {
        "id": "l525bf6Db9tp"
      }
    }
  ]
}